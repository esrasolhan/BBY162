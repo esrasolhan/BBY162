{
  "nbformat": 4,
  "nbformat_minor": 0,
  "metadata": {
    "colab": {
      "name": "proje04.ipynb",
      "provenance": [],
      "mount_file_id": "1EeVz9I0s5brsIMLjDpho8WjbI80L6e8x",
      "authorship_tag": "ABX9TyOcpn0KBMtfUPmn+qefA5xQ",
      "include_colab_link": true
    },
    "kernelspec": {
      "name": "python3",
      "display_name": "Python 3"
    },
    "language_info": {
      "name": "python"
    }
  },
  "cells": [
    {
      "cell_type": "markdown",
      "metadata": {
        "id": "view-in-github",
        "colab_type": "text"
      },
      "source": [
        "<a href=\"https://colab.research.google.com/github/esrasolhan/hu-bby162-2022/blob/main/proje04.ipynb\" target=\"_parent\"><img src=\"https://colab.research.google.com/assets/colab-badge.svg\" alt=\"Open In Colab\"/></a>"
      ]
    },
    {
      "cell_type": "code",
      "execution_count": 3,
      "metadata": {
        "colab": {
          "base_uri": "https://localhost:8080/"
        },
        "id": "Gyxl8UKCEqZx",
        "outputId": "c80d72fb-c24c-426e-95fc-52c5c1ec5301"
      },
      "outputs": [
        {
          "output_type": "stream",
          "name": "stdout",
          "text": [
            "\n",
            "\n",
            "Kütüphane veritabanına hoşgeldiniz!\n",
            "1-Kayıtları listeleme.\n",
            "2-Yeni kayıt oluşturma.\n",
            "3-Kayıtlar içinde arama yapma.\n",
            "4-Çıkış \n",
            "Lütfen yapmak istediğiniz işlemi seçiniz:4\n",
            "\n",
            "\n",
            "Çıkış yapılıyor...\n"
          ]
        }
      ],
      "source": [
        "import time\n",
        "from google.colab import drive\n",
        "\n",
        "dosyayolu = \"/content/drive/MyDrive/Colab Notebooks/veritabani.txt\"\n",
        "\n",
        "def kayıtlisteleme():\n",
        "  print(\"Kütüphanedeki tüm kayıtlar listeleniyor...\")\n",
        "  dosyaaç= open(dosyayolu, \"r\")\n",
        "  for kayıt in dosyaaç.readlines():\n",
        "    time.sleep(1)\n",
        "    print(kayıt)\n",
        "  dosyaaç.close()\n",
        "\n",
        "def yenikayıt():\n",
        "  eseradı=input(\"Eser adı giriniz: \")\n",
        "  yazar=input(\"Yazar bilgisi giriniz: \")\n",
        "  yayınevi= input(\"Yayınevi bilgisini giriniz: \")\n",
        "  yayınyılı= input(\"Yayın yılı bilgisi giriniz: \")\n",
        "  f = open(dosyayolu, 'a' )\n",
        "  f.write(eseradı + \" - \"+yazar  + \" - \" + yayınevi + \" - \"+ yayınyılı+\"\\n\" )\n",
        "  f.close()\n",
        "\n",
        "def arama():\n",
        "  dosyayolu = \"/content/drive/MyDrive/Colab Notebooks/veritabani.txt\"\n",
        "  aranan = input(\"Arama girdinizi yazınız: \")\n",
        "  arama = open(dosyayolu, \"r\")\n",
        "  for kitap in arama.readlines():\n",
        "    if (aranan in kitap):\n",
        "        print(kitap)\n",
        "        time.sleep(0.7)\n",
        "  else: \n",
        "    print(\"Aradığınız kaynak bulunmamaktadır.\")\n",
        "  arama.close() \n",
        "\n",
        "def menü():\n",
        "  fonksiyonlar=[kayıtlisteleme,yenikayıt,arama]\n",
        "  while True:\n",
        "    print(\"\\n\"*1)\n",
        "    işlem=int(input(\"Kütüphane veritabanına hoşgeldiniz!\\n1-Kayıtları listeleme.\\n2-Yeni kayıt oluşturma.\\n3-Kayıtlar içinde arama yapma.\\n4-Çıkış \\nLütfen yapmak istediğiniz işlemi seçiniz:\"))\n",
        "    print(\"\\n\")\n",
        "    if işlem<4 and işlem>=1:\n",
        "      print(\"Geçerli işlem girildi.Yönlendiriliyorsunuz...\")\n",
        "      print(\"\\n\")\n",
        "      fonksiyonlar[işlem-1]()\n",
        "    elif işlem==4:\n",
        "      print(\"Çıkış yapılıyor...\")\n",
        "      break\n",
        "    else:\n",
        "      print(\"Lütfen geçerli bir işlem numarası giriniz.\")\n",
        "      time.sleep(1)\n",
        "menü()"
      ]
    }
  ]
}
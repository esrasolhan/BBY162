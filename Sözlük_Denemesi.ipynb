{
  "nbformat": 4,
  "nbformat_minor": 0,
  "metadata": {
    "colab": {
      "name": "Sözlük Denemesi",
      "provenance": [],
      "authorship_tag": "ABX9TyOovbp1FW4299J/IzQpQvho",
      "include_colab_link": true
    },
    "kernelspec": {
      "name": "python3",
      "display_name": "Python 3"
    },
    "language_info": {
      "name": "python"
    }
  },
  "cells": [
    {
      "cell_type": "markdown",
      "metadata": {
        "id": "view-in-github",
        "colab_type": "text"
      },
      "source": [
        "<a href=\"https://colab.research.google.com/github/esrasolhan/HU-bby162-2022-/blob/main/S%C3%B6zl%C3%BCk_Denemesi.ipynb\" target=\"_parent\"><img src=\"https://colab.research.google.com/assets/colab-badge.svg\" alt=\"Open In Colab\"/></a>"
      ]
    },
    {
      "cell_type": "code",
      "execution_count": 25,
      "metadata": {
        "colab": {
          "base_uri": "https://localhost:8080/"
        },
        "id": "e0uyPDaEPdca",
        "outputId": "e0488e3c-087f-43ef-e4cd-0a388bd6d413"
      },
      "outputs": [
        {
          "output_type": "stream",
          "name": "stdout",
          "text": [
            "Aradığınız kelimeyi giriniz: BOOLEAN\n",
            "Aradığınız kelime var: True\n",
            "true ya da false döndürür\n"
          ]
        }
      ],
      "source": [
        " #sözlük oluştur.\n",
        " #input girişi belirle.\n",
        " #inputu küçültecek kodu yaz.\n",
        " #inputu \"in\" ile karşılaştır.\n",
        " #sözlükte olup olmadığını print et.\n",
        " #tanımını getir.\n",
        "\n",
        "sözlük= {\"print\":\"metni yazdırır\", \"input\":\"klavye ile girişi sağlar\", \"boolean\":\"true ya da false döndürür\",\"in\":\"girdinin içinde istenileni arar\", \"lower\":\"küçük harfe dönüştürür\",\"capitalize\":\"ilk harfi büyük yapar\",\"upper\":\"bütün harfleri büyük harfe çevirir\",\"del\":\"siler\",\"if\":\"doğru ifadelere koşulluluk oluşturur\",\"else\":\"yanlış ifadelere koşulluluk oluşturur\"}\n",
        "Arama=input(\"Aradığınız kelimeyi giriniz: \")\n",
        "düzeltme= str(Arama.lower())\n",
        "print(\"Aradığınız kelime var: \"+ str(düzeltme in sözlük))\n",
        "print(sözlük[düzeltme])\n",
        "\n",
        "\n"
      ]
    }
  ]
}
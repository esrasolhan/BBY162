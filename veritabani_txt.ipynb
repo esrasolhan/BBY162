{
  "nbformat": 4,
  "nbformat_minor": 0,
  "metadata": {
    "colab": {
      "name": "veritabani.txt",
      "provenance": [],
      "authorship_tag": "ABX9TyNlSdKoWtAbs4Tme0dL7AD9",
      "include_colab_link": true
    },
    "kernelspec": {
      "name": "python3",
      "display_name": "Python 3"
    },
    "language_info": {
      "name": "python"
    }
  },
  "cells": [
    {
      "cell_type": "markdown",
      "metadata": {
        "id": "view-in-github",
        "colab_type": "text"
      },
      "source": [
        "<a href=\"https://colab.research.google.com/github/esrasolhan/HU-bby162-2022-/blob/main/veritabani_txt.ipynb\" target=\"_parent\"><img src=\"https://colab.research.google.com/assets/colab-badge.svg\" alt=\"Open In Colab\"/></a>"
      ]
    },
    {
      "cell_type": "markdown",
      "source": [
        ""
      ],
      "metadata": {
        "id": "ckHFFMgsQyFX"
      }
    },
    {
      "cell_type": "markdown",
      "source": [
        "Kayboluş, Georges Perec,Ayrıntı Yayınları,2018\n",
        "Anna Karenina,Lev Tolstoy, Can Yayınları,2020\n",
        "Simyacı, Paulo Coelho,Can Yayınları,2017\n",
        "Dönüşüm,Franz Kafka,İş Bankası Kültür Yayınları,2013\n",
        "Hayvan Çiftliği, George Orwell, Can Yayınları, 2022"
      ],
      "metadata": {
        "id": "048i3j6OQtT3"
      }
    }
  ]
}
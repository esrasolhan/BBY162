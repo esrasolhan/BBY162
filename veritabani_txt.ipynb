{
  "nbformat": 4,
  "nbformat_minor": 0,
  "metadata": {
    "colab": {
      "name": "veritabani.txt",
      "provenance": [],
      "authorship_tag": "ABX9TyO85F9YBC8jEK0PhMjv6PBw",
      "include_colab_link": true
    },
    "kernelspec": {
      "name": "python3",
      "display_name": "Python 3"
    },
    "language_info": {
      "name": "python"
    }
  },
  "cells": [
    {
      "cell_type": "markdown",
      "metadata": {
        "id": "view-in-github",
        "colab_type": "text"
      },
      "source": [
        "<a href=\"https://colab.research.google.com/github/esrasolhan/HU-bby162-2022-/blob/main/veritabani_txt.ipynb\" target=\"_parent\"><img src=\"https://colab.research.google.com/assets/colab-badge.svg\" alt=\"Open In Colab\"/></a>"
      ]
    },
    {
      "cell_type": "code",
      "execution_count": null,
      "metadata": {
        "colab": {
          "base_uri": "https://localhost:8080/"
        },
        "id": "V0qu3917130h",
        "outputId": "52e80a27-74f6-4204-d41a-6502ecd754c8"
      },
      "outputs": [
        {
          "output_type": "stream",
          "name": "stdout",
          "text": [
            "\n",
            "\n"
          ]
        }
      ],
      "source": [
        "import time\n",
        "eseradları=[\"Kayboluş\",\"Anna Karenina\",\"Simyacı\",\"Dönüşüm\",\"Hayvan Çiftliği\"]\n",
        "yazaradları=[\"Georges Perec\",\"Lev Tolstoy\",\"Paulo Coelho\",\"Franz Kafka\",\"George Orwell\"]\n",
        "yayınevleri=[\"Ayrıntı Yayınları\",\"Can Yayınları\",\"Can Yayınları\",\"İş Bankası Kültür Yayınları\",\"Can Yayınları\"]\n",
        "yayınyılları=[\"2018\",\"2020\",\"2017\",\"2013\",\"2022\"]\n",
        "sırano= eseradları.index\n",
        "def kayıtlisteleme():\n",
        "  time.sleep(1)\n",
        "  print(\"Kütüphanedeki tüm kayıtlar listeleniyor...\")\n",
        "  for no in range(len(eseradları)):\n",
        "    print(f\"\\nKaynak Adı: {eseradları[no]}\\nYazar Bilgisi: {yazaradları[no]} \\nYayınevi= {yayınevleri[no]} \\nYayınyılı= {yayınyılları[no]}\")\n",
        "    time.sleep(1)\n",
        "def yenikayıt():\n",
        "  time.sleep(1)\n",
        "  eseradı=input(\"Eser adı giriniz: \")\n",
        "  yazar=input(\"Yazar bilgisi giriniz: \")\n",
        "  yayınevi= input(\"Yayınevi bilgisini giriniz: \")\n",
        "  yayınyılı= input(\"Yayın yılı bilgisi giriniz: \")\n",
        "  eseradları.append(eseradı)\n",
        "  yazaradları.append(yazar)\n",
        "  yayınevleri.append(yayınevi)\n",
        "  yayınyılları.append(yayınyılı)\n",
        "  print(\"Yeni kayıt listeye ekleniyor...\")\n",
        "  time.sleep(0.3)\n",
        "  print(\"Yeni kayıt listeye eklendi.\")\n",
        "def arama():\n",
        "  time.sleep(1)\n",
        "  print(\"Kütüphane kayıtları içerisinde, kaynak adı veya yazar adı girerek arama yapabilirsiniz...\")\n",
        "  aranacak= input(\"Aramanızı giriniz: \")\n",
        "  print(\"\\n\")\n",
        "  if aranacak in eseradları:\n",
        "    arananno= eseradları.index(aranacak)\n",
        "    print(\"Aradığınız kayıt bulundu: \")\n",
        "    print(\"\\n\")\n",
        "    time.sleep(1)\n",
        "    print((f\"\\nKaynak Adı: {eseradları[arananno]}\\nYazar Bilgisi: {yazaradları[arananno]}\\nYayınevi= {yayınevleri[arananno]}\\nYayınyılı= {yayınyılları[arananno]}\"))\n",
        "  elif aranacak in yazaradları:\n",
        "    aranankişi=yazaradları.index(aranacak)\n",
        "    print(\"Aradığınız kayıt bulundu: \")\n",
        "    print(\"\\n\")\n",
        "    time.sleep(1)\n",
        "    print((f\"\\nKaynak Adı: {eseradları[aranankişi]}\\nYazar Bilgisi: {yazaradları[aranankişi]}\\nYayınevi= {yayınevleri[aranankişi]}\\nYayınyılı= {yayınyılları[aranankişi]}\"))\n",
        "  else:\n",
        "    time.sleep(1)\n",
        "    print(\"Maalesef, aradığınız kaynak bulunmamaktadır.\")\n",
        "    \n",
        "def menü():\n",
        "  fonksiyonlar=[kayıtlisteleme,yenikayıt,arama]\n",
        "  while True:\n",
        "    print(\"\\n\"*1)\n",
        "    işlem=int(input(\"Kütüphane veritabanına hoşgeldiniz!\\n1-Kayıtları listeleme.\\n2-Yeni kayıt oluşturma.\\n3-Kayıtlar içinde arama yapma.\\n4-Çıkış \\nLütfen yapmak istediğiniz işlemi seçiniz:\"))\n",
        "    print(\"\\n\")\n",
        "    if işlem<4 and işlem>=1:\n",
        "      print(\"Geçerli işlem girildi.Yönlendiriliyorsunuz...\")\n",
        "      print(\"\\n\")\n",
        "      fonksiyonlar[işlem-1]()\n",
        "    elif işlem==4:\n",
        "      print(\"Çıkış yapılıyor...\")\n",
        "      break\n",
        "    else:\n",
        "      print(\"Lütfen geçerli bir işlem numarası giriniz.\")\n",
        "      time.sleep(1)\n",
        "menü()"
      ]
    }
  ]
}
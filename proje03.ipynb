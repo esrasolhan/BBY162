{
  "nbformat": 4,
  "nbformat_minor": 0,
  "metadata": {
    "colab": {
      "name": "Untitled19.ipynb",
      "provenance": [],
      "authorship_tag": "ABX9TyO12Gx0zXmWk/dWnGb8oO2Z",
      "include_colab_link": true
    },
    "kernelspec": {
      "name": "python3",
      "display_name": "Python 3"
    },
    "language_info": {
      "name": "python"
    }
  },
  "cells": [
    {
      "cell_type": "markdown",
      "metadata": {
        "id": "view-in-github",
        "colab_type": "text"
      },
      "source": [
        "<a href=\"https://colab.research.google.com/github/esrasolhan/HU-bby162-2022-/blob/main/proje03.ipynb\" target=\"_parent\"><img src=\"https://colab.research.google.com/assets/colab-badge.svg\" alt=\"Open In Colab\"/></a>"
      ]
    },
    {
      "cell_type": "code",
      "execution_count": null,
      "metadata": {
        "colab": {
          "base_uri": "https://localhost:8080/"
        },
        "id": "JhAvAf_xyigy",
        "outputId": "bf4aee3a-c6dd-45a7-b0e9-35165c3c8a3a"
      },
      "outputs": [
        {
          "output_type": "stream",
          "name": "stdout",
          "text": [
            "Hoşgeldiniz. Testiniz hazırlanıyor, lütfen bekleyiniz.\n",
            "Kurallar: \n",
            "1- Bu test 5 sorudan oluşmaktadır. \n",
            "2- Her bir soruyu yanıtlamanız için 10 saniye verilecektir. \n",
            "3- Test cevapları 'Evet' ya da 'Hayır'olarak girilmelidir. \n",
            "4- Puanınız en son gösterilecektir.\n",
            "1.Sorunuz: \n",
            "Türkiye'nin başkenti Ankara'dır.\n"
          ]
        }
      ],
      "source": [
        "import time\n",
        "print(\"Hoşgeldiniz. Testiniz hazırlanıyor, lütfen bekleyiniz.\")\n",
        "sorular=[\"Türkiye'nin başkenti Ankara'dır.\",\"Avustralya, Avrupa kıtasındadır.\",\"En küçük asal sayı 2'dir.\",\"Isı termometre ile ölçülür.\",\"Eyfel kulesi Fransa'dadır.\"]\n",
        "cevaplar=[\"Evet\",\"Hayır\",\" \"]\n",
        "print(\"Kurallar: \\n1- Bu test 5 sorudan oluşmaktadır. \\n2- Her bir soruyu yanıtlamanız için 10 saniye verilecektir. \\n3- Test cevapları 'Evet' ya da 'Hayır'olarak girilmelidir. \\n4- Puanınız en son gösterilecektir.\") \n",
        "puan=0\n",
        "time.sleep(1)\n",
        "print(\"1.Sorunuz: \")\n",
        "time.sleep(1.5)\n",
        "print(sorular[0])\n",
        "cevap1= input(\"Cevabınız:\")\n",
        "if cevap1==cevaplar[0]:\n",
        "  print(\"Cevabınız doğru.\")\n",
        "  puan+=20\n",
        "else:\n",
        "  print(\"Cevabınız yanlış.\")\n",
        "\n",
        "time.sleep(1.5)\n",
        "print(\"2.Sorunuz: \")\n",
        "time.sleep(1.5)\n",
        "print(sorular[1])\n",
        "cevap2= input(\"Cevabınız:\")\n",
        "if cevap2==cevaplar[1]:\n",
        "  print(\"Cevabınız doğru.\")\n",
        "  puan+=20\n",
        "else:\n",
        "  print(\"Cevabınız yanlış.\")\n",
        "\n",
        "time.sleep(1.5)\n",
        "print(\"3.Sorunuz: \")\n",
        "print(sorular[2])\n",
        "cevap3=input(\"Cevabınız:\")\n",
        "if cevap3==cevaplar[0]:\n",
        "  print(\"Cevabınız doğru.\")\n",
        "  puan+=20\n",
        "else:\n",
        "  print(\"Cevabınız yanlış.\")\n",
        "\n",
        "time.sleep(1.5)\n",
        "print(\"4.Sorunuz: \")\n",
        "print(sorular[3])\n",
        "cevap4=input(\"Cevabınız:\")\n",
        "if cevap4==cevaplar[1]:\n",
        "  print(\"Cevabınız doğru.\")\n",
        "  puan+=20\n",
        "else:\n",
        "  print(\"Cevabınız yanlış.\")\n",
        "\n",
        "time.sleep(1.5)\n",
        "print(\"5.Sorunuz: \")\n",
        "print(sorular[4])\n",
        "cevap5=input(\"Cevabınız:\")\n",
        "if cevap5==cevaplar[0]:\n",
        "  print(\"Cevabınız doğru.\")\n",
        "  puan+=20\n",
        "else:\n",
        "  print(\"Cevabınız yanlış.\")\n",
        "\n",
        "if puan>=60:\n",
        "  print(\"Tebrikler!Testi başarıyla tamamladınız. Puanınız: \"+ str(puan))\n",
        "else:\n",
        "  print(\"Üzgünüm. Testte başarısız oldunuz. Puanınız: \"+ str(puan))\n",
        "  dönüs=input(\"Teste geri dönmek ister misiniz?\")"
      ]
    },
    {
      "cell_type": "code",
      "source": [
        ""
      ],
      "metadata": {
        "id": "9zabs3NDJJjs"
      },
      "execution_count": null,
      "outputs": []
    }
  ]
}
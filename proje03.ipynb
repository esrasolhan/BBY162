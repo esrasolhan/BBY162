{
  "nbformat": 4,
  "nbformat_minor": 0,
  "metadata": {
    "colab": {
      "name": "proje03.ipynb",
      "provenance": [],
      "authorship_tag": "ABX9TyOr536jSiJwk+l6YhrJkc8A",
      "include_colab_link": true
    },
    "kernelspec": {
      "name": "python3",
      "display_name": "Python 3"
    },
    "language_info": {
      "name": "python"
    }
  },
  "cells": [
    {
      "cell_type": "markdown",
      "metadata": {
        "id": "view-in-github",
        "colab_type": "text"
      },
      "source": [
        "<a href=\"https://colab.research.google.com/github/esrasolhan/HU-bby162-2022-/blob/main/proje03.ipynb\" target=\"_parent\"><img src=\"https://colab.research.google.com/assets/colab-badge.svg\" alt=\"Open In Colab\"/></a>"
      ]
    },
    {
      "cell_type": "code",
      "source": [
        "import time\n",
        "def testçalıştır():\n",
        "  print(\"Hoşgeldiniz. Testiniz hazırlanıyor, lütfen bekleyiniz.\")\n",
        "  time.sleep(1)\n",
        "  print(\"Kurallar: \\n1- Bu test 5 sorudan oluşmaktadır. \\n2- Test cevapları 'D' ya da 'Y'olarak girilmelidir. \\n3- Puanınız en son gösterilecektir.\\n4- Testi tekrar yapmak için 'e' ifadesini giriniz.\")\n",
        "  sorular =[\"Türkiye'nin başkenti Ankara'dır.\",\"Avustralya, Avrupa kıtasındadır.\",\"En küçük asal sayı 2'dir.\",\"Isı termometre ile ölçülür.\",\"Eyfel kulesi Fransa'dadır.\"]\n",
        "  cevaplar=[\"D\",\"Y\", \"D\",\"Y\",\"D\"]\n",
        "  Soruno=0\n",
        "  Cevapno=0\n",
        "  puan=0\n",
        "  for soru in sorular:\n",
        "    Soruno+=1\n",
        "    time.sleep(1)\n",
        "    print(str(Soruno)+\".sorunuz: \"+soru)\n",
        "    time.sleep(1)\n",
        "    cevap=input(\"D/Y: \")\n",
        "    if cevap == cevaplar[Cevapno]:\n",
        "      print(\"Cevabınız doğru.\")\n",
        "      puan+=1\n",
        "    else:\n",
        "      print(\"Cevabınız yanlış.\")\n",
        "    Cevapno+=1\n",
        "  time.sleep(1)\n",
        "  toplampuan=int((puan/Soruno) *100)\n",
        "  print(\"Toplam puanınız: \" +str(toplampuan))\n",
        "  if toplampuan>=60:\n",
        "    print(\"Tebrikler!Testi başarıyla tamamladınız.\") \n",
        "  else:\n",
        "    print(\"Üzgünüm. Testte başarısız oldunuz.\")\n",
        "  tekrar=input(\"Testi tekrar yapmak ister misin?\") \n",
        "  if tekrar ==\"e\":\n",
        "    testçalıştır() \n",
        "  else:\n",
        "    print(\"Test sonlandı. İyi günler dileriz.\")\n",
        "testçalıştır()"
      ],
      "metadata": {
        "colab": {
          "base_uri": "https://localhost:8080/"
        },
        "id": "U0DbfpjmaSnB",
        "outputId": "4e3c77cf-3057-4629-93a1-31c62795529a"
      },
      "execution_count": null,
      "outputs": [
        {
          "output_type": "stream",
          "name": "stdout",
          "text": [
            "Hoşgeldiniz. Testiniz hazırlanıyor, lütfen bekleyiniz.\n",
            "Kurallar: \n",
            "1- Bu test 5 sorudan oluşmaktadır. \n",
            "2- Test cevapları 'D' ya da 'Y'olarak girilmelidir. \n",
            "3- Puanınız en son gösterilecektir.\n",
            "4- Testi tekrar yapmak için 'e' ifadesini giriniz.\n",
            "1.sorunuz: Türkiye'nin başkenti Ankara'dır.\n",
            "D/Y: D\n",
            "Cevabınız doğru.\n",
            "2.sorunuz: Avustralya, Avrupa kıtasındadır.\n",
            "D/Y: Y\n",
            "Cevabınız doğru.\n",
            "3.sorunuz: En küçük asal sayı 2'dir.\n",
            "D/Y: D\n",
            "Cevabınız doğru.\n",
            "4.sorunuz: Isı termometre ile ölçülür.\n",
            "D/Y: Y\n",
            "Cevabınız doğru.\n",
            "5.sorunuz: Eyfel kulesi Fransa'dadır.\n",
            "D/Y: D\n",
            "Cevabınız doğru.\n",
            "Toplam puanınız: 100\n",
            "Tebrikler!Testi başarıyla tamamladınız.\n"
          ]
        }
      ]
    }
  ]
}
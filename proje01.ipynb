{
  "nbformat": 4,
  "nbformat_minor": 0,
  "metadata": {
    "colab": {
      "name": "proje01.ipynb",
      "provenance": [],
      "authorship_tag": "ABX9TyPTGYUgLYC6GrcRqThiuTqi",
      "include_colab_link": true
    },
    "kernelspec": {
      "name": "python3",
      "display_name": "Python 3"
    },
    "language_info": {
      "name": "python"
    }
  },
  "cells": [
    {
      "cell_type": "markdown",
      "metadata": {
        "id": "view-in-github",
        "colab_type": "text"
      },
      "source": [
        "<a href=\"https://colab.research.google.com/github/esrasolhan/HU-bby162-2022-/blob/main/proje01.ipynb\" target=\"_parent\"><img src=\"https://colab.research.google.com/assets/colab-badge.svg\" alt=\"Open In Colab\"/></a>"
      ]
    },
    {
      "cell_type": "code",
      "execution_count": null,
      "metadata": {
        "colab": {
          "base_uri": "https://localhost:8080/"
        },
        "id": "cwGD8sRC15oT",
        "outputId": "eab36654-45a5-4e6f-cae5-26a06f07b31b"
      },
      "outputs": [
        {
          "output_type": "stream",
          "name": "stdout",
          "text": [
            "İndeks numarasını giriniz: 54\n",
            "İndeks numarası bulunamadı!\n",
            "İndeks numarasını giriniz: 55\n",
            "İndeks numarası bulunamadı!\n",
            "İndeks numarasını giriniz: 67\n",
            "İndeks numarası bulunamadı!\n",
            "İndeks numarasını giriniz: 5\n",
            "Kalemlik\n"
          ]
        }
      ],
      "source": [
        "liste =[\"Defter\",\"Kitap\",\"Kalem\",\"Silgi\",\"Kalemtıraş\",\"Kalemlik\"]\n",
        "while True:\n",
        "  try:\n",
        "    secim = int(input(\"İndeks numarasını giriniz: \"))     \n",
        "  except ValueError:\n",
        "    print(\"Yalnızca rakam giriniz.\")\n",
        "    continue\n",
        "  if secim < listeToplam:\n",
        "    print(liste[secim])\n",
        "    break\n",
        "  else:\n",
        "    print(\"İndeks numarası bulunamadı!\")\n",
        "  continue\n",
        "    "
      ]
    }
  ]
}
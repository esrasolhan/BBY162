{
  "nbformat": 4,
  "nbformat_minor": 0,
  "metadata": {
    "colab": {
      "name": "Untitled11.ipynb adlı not defterinin kopyası",
      "provenance": [],
      "authorship_tag": "ABX9TyPnKnStxmN8+9l7DO86qmfv",
      "include_colab_link": true
    },
    "kernelspec": {
      "name": "python3",
      "display_name": "Python 3"
    },
    "language_info": {
      "name": "python"
    }
  },
  "cells": [
    {
      "cell_type": "markdown",
      "metadata": {
        "id": "view-in-github",
        "colab_type": "text"
      },
      "source": [
        "<a href=\"https://colab.research.google.com/github/esrasolhan/HU-bby162-2022-/blob/main/proje02.ipynb\" target=\"_parent\"><img src=\"https://colab.research.google.com/assets/colab-badge.svg\" alt=\"Open In Colab\"/></a>"
      ]
    },
    {
      "cell_type": "code",
      "execution_count": 9,
      "metadata": {
        "colab": {
          "base_uri": "https://localhost:8080/",
          "height": 130
        },
        "id": "IsGYaPBXj59x",
        "outputId": "51f2fe8f-af71-4386-cd3a-712c5595d343"
      },
      "outputs": [
        {
          "output_type": "error",
          "ename": "SyntaxError",
          "evalue": "ignored",
          "traceback": [
            "\u001b[0;36m  File \u001b[0;32m\"<ipython-input-9-621bb281aae2>\"\u001b[0;36m, line \u001b[0;32m32\u001b[0m\n\u001b[0;31m    elif seviye== \"2\":\u001b[0m\n\u001b[0m       ^\u001b[0m\n\u001b[0;31mSyntaxError\u001b[0m\u001b[0;31m:\u001b[0m invalid syntax\n"
          ]
        }
      ],
      "source": [
        "print(\"ADAM ASMACA OYUNUNA HOŞ GELDİNİZ!\")\n",
        "seviye =  int(input(\"Seviye seçiniz:1-Basit 2-Orta 3-Zor: \")) \n",
        "from random import randint\n",
        "\n",
        "if seviye ==\"1\":\n",
        "  print(\"Basit seviye seçildi.\")\n",
        "  \n",
        "can1=7\n",
        "kelimeler1 = [\"Türkiye\", \"Amerika\", \"Almanya\", \"Fransa\",\"Japonya\"]\n",
        "kelimeSayisi1 = len(kelimeler1)\n",
        "secilen1 = randint(0, kelimeSayisi1-1)\n",
        "secilenKelime1 = kelimeler1[secilen1]\n",
        "print(secilenKelime1)\n",
        "dizilenKelime1 = []\n",
        "for diz in kelimeler1[secilen1]:\n",
        "    dizilenKelime1.append(\"_\")\n",
        "print(dizilenKelime1)\n",
        "    \n",
        "while can1 > 0:\n",
        "    girilenHarf = input(\"Bir harf giriniz: \")\n",
        "    canKontrol = girilenHarf in secilenKelime1\n",
        "    if canKontrol == False:\n",
        "        can1-=1\n",
        "    i = 0\n",
        "    for kontrol in secilenKelime1:\n",
        "        if secilenKelime1[i] == girilenHarf:\n",
        "            dizilenKelime1[i] = girilenHarf\n",
        "        i+=1\n",
        "    print(dizilenKelime1)\n",
        "    print(\"Kalan can: \"+ str(can1))\n",
        "\n",
        "elif seviye== \"2\":\n",
        "print(\"Orta seviye seçildi.\")\n",
        "\n",
        "from random import randint\n",
        "can2=5\n",
        "kelimeler2= [\"Arjantin\",\"Kamboçya\",\"Etiyopya\",\"Pakistan\",\"Slovenya\"]\n",
        "kelimeSayisi2 = len(kelimeler2)\n",
        "secilen2 = randint(0, kelimeSayisi2-1)\n",
        "secilenKelime2 = kelimeler2[secilen2]\n",
        "print(secilenKelime2)\n",
        "dizilenKelime2 = []\n",
        "for diz in kelimeler2[secilen2]:\n",
        "    dizilenKelime2.append(\"_\")\n",
        "print(dizilenKelime2)\n",
        " \n",
        "while can2 > 0:\n",
        "    girilenHarf = input(\"Bir harf giriniz: \")\n",
        "    canKontrol = girilenHarf in secilenKelime2\n",
        "    if canKontrol == False:\n",
        "      can2-=1\n",
        "    i = 0\n",
        "    for kontrol in secilenKelime2:\n",
        "      if secilenKelime2[i] == girilenHarf:\n",
        "        dizilenKelime2[i] = girilenHarf\n",
        "      i+=1\n",
        "    print(dizilenKelime2)\n",
        "    print(\"Kalan can: \"+ str(can2))\n",
        "\n",
        "elif seviye==\"3\":\n",
        "print(\"Zor seviye seçildi\")\n",
        "from random import randint\n",
        "can3=3\n",
        "kelimeler3=[\"Mauritius\",\"Svaziland\",\"Guernsey\",\"Curacao\",\"Pitcairn Adaları\"]\n",
        "kelimeSayisi3 = len(kelimeler3)\n",
        "secilen3 = randint(0, kelimeSayisi3-1)\n",
        "secilenKelime3 = kelimeler3[secilen3]\n",
        "print(secilenKelime3)\n",
        "dizilenKelime3 = []\n",
        "for diz in kelimeler3[secilen3]:\n",
        "  dizilenKelime3.append(\"_\")\n",
        "print(dizilenKelime3)\n",
        "\n",
        "while can3 > 0:\n",
        "    girilenHarf = input(\"Bir harf giriniz: \")\n",
        "    canKontrol = girilenHarf in secilenKelime3\n",
        "    if canKontrol == False:\n",
        "        can3-=1\n",
        "    i = 0\n",
        "    for kontrol in secilenKelime3:\n",
        "        if secilenKelime3[i] == girilenHarf:\n",
        "            dizilenKelime3[i] = girilenHarf\n",
        "        i+=1\n",
        "    print(dizilenKelime3)\n",
        "    print(\"Kalan can: \"+ str(can3))\n",
        "  \n",
        "else:\n",
        "  print(\"Oyuna başlamak için geçerli bir seviye numarası giriniz.\")"
      ]
    }
  ]
}